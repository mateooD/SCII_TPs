{
 "cells": [
  {
   "cell_type": "code",
   "execution_count": 3,
   "metadata": {},
   "outputs": [],
   "source": [
    "function [X] = modmotor(t, prevX, u)\n",
    "  L = 4.7857;\n",
    "  J = 4.9285e-13;\n",
    "  R = 2;\n",
    "  B = 9.8544e-8;\n",
    "  K = 0.01896;\n",
    "  Va = u;\n",
    "  h = 1e-7;\n",
    "  omega = prevX(1);\n",
    "  wp = prevX(2);\n",
    "  theta = prevX(3);\n",
    "  for ii = 1:t/h\n",
    "    wpp =(-wp*(R*J+L*B)-omega*(R*B+K*K)+Va*K)/(J*L);\n",
    "    wp = wp+h*wpp;\n",
    "    omega = omega + h*wp;\n",
    "    thetap = omega;\n",
    "    theta = theta + h*thetap;\n",
    "  end\n",
    "  X = [omega,wp,theta];\n",
    "end\n"
   ]
  },
  {
   "cell_type": "code",
   "execution_count": 11,
   "metadata": {},
   "outputs": [
    {
     "name": "stdout",
     "output_type": "stream",
     "text": [
      "Error en estado estacionario: 0.37796\n"
     ]
    },
    {
     "data": {
      "image/png": "[encoded data removed]",
      "text/plain": [
       "<IPython.core.display.Image object>"
      ]
     },
     "metadata": {},
     "output_type": "display_data"
    }
   ],
   "source": [
    "X = -[0; 0; 0];\n",
    "index = 0;\n",
    "h = 1e-7;\n",
    "ref = 1;\n",
    "simTime = 1e-3;\n",
    "Kp = 0.1;\n",
    "Ki = 0.01;\n",
    "Kd = 5;\n",
    "samplingPeriod = h;\n",
    "\n",
    "%Variables PID discreto\n",
    "A = ((2*Kp*samplingPeriod)+(Ki*(samplingPeriod^2))+(2*Kd))/(2*samplingPeriod);\n",
    "B = (-2*Kp*samplingPeriod+Ki*(samplingPeriod^2)-4*Kd)/(2*samplingPeriod);\n",
    "C = Kd/samplingPeriod;\n",
    "e = zeros(simTime/h,1);\n",
    "u = 0;\n",
    "\n",
    "theta = zeros(simTime/h,1); % Agrega esta línea para inicializar theta\n",
    "for t = 0:h:simTime\n",
    "    index = index+1;\n",
    "    k = index+2;\n",
    "    X = motorModel(h,X,u);\n",
    "    e(k) = ref-X(3);\n",
    "    u = u+A*e(k)+B*e(k-1)+C*e(k-2);\n",
    "    theta(index) = X(3); % Almacena el valor de theta en cada paso de tiempo\n",
    "end\n",
    "t = 0:h:simTime;\n",
    "\n",
    "% Calcular el error en estado estacionario\n",
    "error_ss = (ref - theta(end))*100;\n",
    "disp(['Error en estado estacionario: ', num2str(error_ss)]);\n",
    "\n",
    "plot(t,theta)\n",
    "title('Salida Controlada por PID: K_p=0.1, K_i=0.01, K_D=5') % \n",
    "xlabel('Tiempo [s]') % \n",
    "ylabel('\\theta [rad]') % \n",
    "grid\n",
    "\n"
   ]
  },
  {
   "cell_type": "code",
   "execution_count": null,
   "metadata": {},
   "outputs": [],
   "source": [
    "## Vemos que hay un sobrepaso en la respuesta, para evitarla disminuiremos la accion derivativa.\n",
    "# Nos lleva a aumentar el ess lo cual aumentariamos el valor de la accion integral\n",
    "#Se implementan sliders dentro de octave para poder afinar cada parametro y obtener una respuesta deseada\n",
    "\n"
   ]
  }
 ],
 "metadata": {
  "kernelspec": {
   "display_name": "Octave",
   "language": "octave",
   "name": "octave"
  },
  "language_info": {
   "file_extension": ".m",
   "help_links": [
    {
     "text": "GNU Octave",
     "url": "https://www.gnu.org/software/octave/support.html"
    },
    {
     "text": "Octave Kernel",
     "url": "https://github.com/Calysto/octave_kernel"
    },
    {
     "text": "MetaKernel Magics",
     "url": "https://metakernel.readthedocs.io/en/latest/source/README.html"
    }
   ],
   "mimetype": "text/x-octave",
   "name": "octave",
   "version": "6.4.0"
  }
 },
 "nbformat": 4,
 "nbformat_minor": 4
}
