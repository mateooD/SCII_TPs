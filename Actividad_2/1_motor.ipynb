{
 "cells": [
  {
   "cell_type": "markdown",
   "metadata": {},
   "source": [
    "# Actividad 2"
   ]
  },
  {
   "cell_type": "markdown",
   "metadata": {},
   "source": [
    "# Controlador en esquema de Espacio de estados.\n",
    "\n",
    "El objetivo de este trabajo es realizar un controlador pero en este caso partiendo de la base de un esquema de ESPACIO DE ESTADOS."
   ]
  },
  {
   "cell_type": "markdown",
   "metadata": {},
   "source": [
    "## Caso 1 - Motor CC"
   ]
  },
  {
   "cell_type": "markdown",
   "metadata": {},
   "source": [
    "Partiendo de las ecuaciones de motor y parametros calculados en el trabajo practico anterior\n",
    "\n",
    "$   LAA=7.14e-04 ;\n",
    "    J=3.1210e-06; \n",
    "    Ra=27; \n",
    "    B=0; \n",
    "    Ki=16.5 \n",
    "    Km= 0.0606\n",
    "$\n",
    "\n",
    "\n",
    "Modelado por las siguientes Ecuaciones diferenciales:\n",
    "\n",
    "$\\frac{di_a}{dt}=\\frac{R_A}{L_{AA}}ia-\\frac{K_m}{L_{AA}}\\omega _r+\\frac{1}{L_{AA}}Va $\n",
    "\n",
    "$ \\frac{d\\omega_r}{dt}=\\frac{K_i}{J}ia-\\frac{B_m}{J}\\omega _r+\\frac{1}{J}T_L $\n",
    "\n",
    "$ \\frac{d\\theta _t}{dt}=\\omega _r $\n",
    "\n",
    "\n",
    "Podiamos modelar un controlador PID obteniendo sus constantes como : Ki=0.01 ;  Kp0.5 ; Kd=1\n"
   ]
  },
  {
   "cell_type": "markdown",
   "metadata": {},
   "source": [
    "### Espacio de estados"
   ]
  },
  {
   "cell_type": "code",
   "execution_count": 23,
   "metadata": {},
   "outputs": [],
   "source": [
    "# Importacion de librerias\n",
    "\n",
    "import numpy as np\n",
    "import control as ct\n",
    "import math\n",
    "import pandas as pd\n",
    "import matplotlib.pyplot as plt\n",
    "from control.matlab import *\n",
    "import cmath as cm\n",
    "from math import log\n",
    "import sympy as sp\n"
   ]
  },
  {
   "cell_type": "markdown",
   "metadata": {},
   "source": [
    "A partir de las ecuaciones diferenciales modelamos en espacio de estados. Reescribiendo las ecuaciones en matrices y llevando a espacio de estados"
   ]
  },
  {
   "cell_type": "code",
   "execution_count": 30,
   "metadata": {},
   "outputs": [
    {
     "name": "stdout",
     "output_type": "stream",
     "text": [
      "A: [[-3.78151261e+04 -8.48739496e+01  0.00000000e+00]\n",
      " [ 5.28846154e+06  0.00000000e+00  0.00000000e+00]\n",
      " [ 0.00000000e+00  1.00000000e+00  0.00000000e+00]]\n",
      "B: [[   1400.56022409       0.        ]\n",
      " [      0.         -320512.82051282]\n",
      " [      0.               0.        ]]\n",
      "C: [[0 0 1]]\n",
      "D: [0 0]\n"
     ]
    },
    {
     "data": {
      "text/latex": [
       "$$\n",
       "\\left(\\begin{array}{rllrllrll|rllrll}\n",
       "-3.&\\hspace{-1em}78&\\hspace{-1em}\\cdot10^{4}&-84.&\\hspace{-1em}9&\\hspace{-1em}\\phantom{\\cdot}&0\\phantom{.}&\\hspace{-1em}&\\hspace{-1em}\\phantom{\\cdot}&1.&\\hspace{-1em}4&\\hspace{-1em}\\cdot10^{3}&0\\phantom{.}&\\hspace{-1em}&\\hspace{-1em}\\phantom{\\cdot}\\\\\n",
       "5.&\\hspace{-1em}29&\\hspace{-1em}\\cdot10^{6}&0\\phantom{.}&\\hspace{-1em}&\\hspace{-1em}\\phantom{\\cdot}&0\\phantom{.}&\\hspace{-1em}&\\hspace{-1em}\\phantom{\\cdot}&0\\phantom{.}&\\hspace{-1em}&\\hspace{-1em}\\phantom{\\cdot}&-3.&\\hspace{-1em}21&\\hspace{-1em}\\cdot10^{5}\\\\\n",
       "0\\phantom{.}&\\hspace{-1em}&\\hspace{-1em}\\phantom{\\cdot}&1\\phantom{.}&\\hspace{-1em}&\\hspace{-1em}\\phantom{\\cdot}&0\\phantom{.}&\\hspace{-1em}&\\hspace{-1em}\\phantom{\\cdot}&0\\phantom{.}&\\hspace{-1em}&\\hspace{-1em}\\phantom{\\cdot}&0\\phantom{.}&\\hspace{-1em}&\\hspace{-1em}\\phantom{\\cdot}\\\\\n",
       "\\hline\n",
       "0\\phantom{.}&\\hspace{-1em}&\\hspace{-1em}\\phantom{\\cdot}&0\\phantom{.}&\\hspace{-1em}&\\hspace{-1em}\\phantom{\\cdot}&1\\phantom{.}&\\hspace{-1em}&\\hspace{-1em}\\phantom{\\cdot}&0\\phantom{.}&\\hspace{-1em}&\\hspace{-1em}\\phantom{\\cdot}&0\\phantom{.}&\\hspace{-1em}&\\hspace{-1em}\\phantom{\\cdot}\\\\\n",
       "\\end{array}\\right)\n",
       "$$"
      ],
      "text/plain": [
       "StateSpace(array([[-3.78151261e+04, -8.48739496e+01,  0.00000000e+00],\n",
       "       [ 5.28846154e+06,  0.00000000e+00,  0.00000000e+00],\n",
       "       [ 0.00000000e+00,  1.00000000e+00,  0.00000000e+00]]), array([[   1400.56022409,       0.        ],\n",
       "       [      0.        , -320512.82051282],\n",
       "       [      0.        ,       0.        ]]), array([[0., 0., 1.]]), array([[0., 0.]]))"
      ]
     },
     "execution_count": 30,
     "metadata": {},
     "output_type": "execute_result"
    }
   ],
   "source": [
    "# Definir los parámetros del sistema\n",
    "R_A =27\n",
    "L_AA =7.14e-4\n",
    "K_m = 0.0606\n",
    "J = 3.12e-6\n",
    "B_m = 0\n",
    "K_i = 16.5\n",
    "\n",
    "# Definir las matrices A, B, C y D del sistema de espacio de estados\n",
    "A = np.array([[-R_A/L_AA, -K_m/L_AA, 0],\n",
    "              [K_i/J, -B_m/J,0],[0,1,0]])\n",
    "B = np.array([[1/L_AA,0], [0,-1/J],[0,0]])\n",
    "C = np.array([[0, 0,1]])\n",
    "D = np.array([0,0])\n",
    "\n",
    "print('A:', A)\n",
    "print('B:', B)\n",
    "print('C:', C)\n",
    "print('D:', D)\n",
    "\n",
    "# Crear el sistema de espacio de estados\n",
    "#sys= ss(A, B, C, D)\n",
    "sys = ct.ss(A, B, C, D)\n",
    "sys\n",
    "\n",
    "#(A.B\n",
    "#C.D)\n"
   ]
  },
  {
   "cell_type": "code",
   "execution_count": 33,
   "metadata": {},
   "outputs": [
    {
     "name": "stdout",
     "output_type": "stream",
     "text": [
      "Polos: [     0.           +0.j         -18907.56302521+9558.06875985j\n",
      " -18907.56302521-9558.06875985j]\n",
      "Tiempo de integración de Euler: -2.71284534760823e-06\n",
      "Tiempo de simulación: -0.0002435623342811479\n"
     ]
    }
   ],
   "source": [
    "# Definir el tiempo de simulación y tiempo de integración\n",
    "#Tiempo de integracion de euler -> obtener polos lazo abierto\n",
    "\n",
    "poles= np.linalg.eigvals(A)\n",
    "print('Polos:', poles)\n",
    "\n",
    "#El polo mayor es 0 pero no es parte de la dinamica de el sistema(indica no estabilidad)\n",
    "dominant_complex_pole = poles[1]  # Se elige uno de los polos complejos conjugados\n",
    "\n",
    "#Tiempo intrgracion de euler\n",
    "tR = np.log(0.95) / np.abs(dominant_complex_pole.real)\n",
    "print('Tiempo de integración de Euler:', tR)\n",
    "\n",
    "#Tiempo de simulacion\n"
   ]
  },
  {
   "cell_type": "code",
   "execution_count": 44,
   "metadata": {},
   "outputs": [
    {
     "data": {
      "image/png": "[encoded data removed]",
      "text/plain": [
       "<Figure size 640x480 with 1 Axes>"
      ]
     },
     "metadata": {},
     "output_type": "display_data"
    },
    {
     "data": {
      "image/png": "[encoded data removed]",
      "text/plain": [
       "<Figure size 640x480 with 1 Axes>"
      ]
     },
     "metadata": {},
     "output_type": "display_data"
    }
   ],
   "source": [
    "#Entrada sistema y torque\n",
    "# Función de entrada sistema\n",
    "def input_function(t):\n",
    "    if t % 10 < 5:\n",
    "        return np.pi / 2\n",
    "    else:\n",
    "        return -np.pi / 2\n",
    "\n",
    "# Define the time vector\n",
    "t = np.linspace(0, 10, 100)\n",
    "\n",
    "# Define the input function\n",
    "def input_function(t):\n",
    "    if t % 10 < 5:\n",
    "        return np.pi / 2\n",
    "    else:\n",
    "        return -np.pi / 2\n",
    "\n",
    "# Generate the input values\n",
    "u = [input_function(ti) for ti in t]\n",
    "\n",
    "plt.plot(t, u)\n",
    "plt.title('Entrada del sistema')\n",
    "plt.grid()\n",
    "plt.show()\n",
    "\n",
    "#Funcion torque valor tl=1.03e-05\n",
    "def torque_function(t):\n",
    "    if t % 10 < 5:\n",
    "        return 1.03e-5\n",
    "    else:\n",
    "        return -1.03e-5\n",
    "    \n",
    "#Graficando\n",
    "t = np.linspace(0, 10, 100)\n",
    "torque = [torque_function(ti) for ti in t]\n",
    "plt.plot(t, torque)\n",
    "plt.title('Torque del sistema')\n",
    "plt.grid()\n"
   ]
  },
  {
   "cell_type": "code",
   "execution_count": 43,
   "metadata": {},
   "outputs": [
    {
     "name": "stdout",
     "output_type": "stream",
     "text": [
      "Matriz de controlabilidad: [array([[   1400.56022409,       0.        ],\n",
      "       [      0.        , -320512.82051282],\n",
      "       [      0.        ,       0.        ]]), array([[-5.29623614e+07,  2.72031890e+07],\n",
      "       [ 7.40680888e+09,  0.00000000e+00],\n",
      "       [ 0.00000000e+00, -3.20512821e+05]]), array([[ 1.37413325e+12, -1.02869202e+12],\n",
      "       [-2.80089411e+14,  1.43863019e+14],\n",
      "       [ 7.40680888e+09,  0.00000000e+00]])]\n",
      "Rango de la matriz de controlabilidad: [2 2 2]\n"
     ]
    }
   ],
   "source": [
    "#Corroborar que el sistema sea controlable\n",
    "# Matriz de controlabilidad\n",
    "M_cont=[B, A@B ,A@A@B]\n",
    "print('Matriz de controlabilidad:', M_cont)\n",
    "range_M_cont = np.linalg.matrix_rank(M_cont)\n",
    "print('Rango de la matriz de controlabilidad:', range_M_cont)"
   ]
  },
  {
   "cell_type": "code",
   "execution_count": null,
   "metadata": {},
   "outputs": [],
   "source": [
    "#Simulacion del sistema para el angulo y para la corriente \n",
    "#Partiendo de condiciones iniciales nulas\n",
    "\n",
    "\n"
   ]
  }
 ],
 "metadata": {
  "kernelspec": {
   "display_name": "Python 3",
   "language": "python",
   "name": "python3"
  },
  "language_info": {
   "codemirror_mode": {
    "name": "ipython",
    "version": 3
   },
   "file_extension": ".py",
   "mimetype": "text/x-python",
   "name": "python",
   "nbconvert_exporter": "python",
   "pygments_lexer": "ipython3",
   "version": "3.10.12"
  }
 },
 "nbformat": 4,
 "nbformat_minor": 2
}
