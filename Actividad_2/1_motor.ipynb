{
 "cells": [
  {
   "cell_type": "markdown",
   "metadata": {},
   "source": [
    "# Actividad 2"
   ]
  },
  {
   "cell_type": "markdown",
   "metadata": {},
   "source": [
    "# Controlador en esquema de Espacio de estados.\n",
    "\n",
    "El objetivo de este trabajo es realizar un controlador pero en este caso partiendo de la base de un esquema de ESPACIO DE ESTADOS."
   ]
  },
  {
   "cell_type": "markdown",
   "metadata": {},
   "source": [
    "## Caso 1 - Motor CC"
   ]
  },
  {
   "cell_type": "markdown",
   "metadata": {},
   "source": [
    "Partiendo de las ecuaciones de motor y parametros calculados en el trabajo practico anterior\n",
    "\n",
    "$   LAA=7.14e-04 ;\n",
    "    J=3.1210e-06; \n",
    "    Ra=27; \n",
    "    B=0; \n",
    "    Ki=16.5 \n",
    "    Km= 0.0606\n",
    "$\n",
    "\n",
    "\n",
    "Modelado por las siguientes Ecuaciones diferenciales:\n",
    "\n",
    "$\\frac{di_a}{dt}=\\frac{R_A}{L_{AA}}ia-\\frac{K_m}{L_{AA}}\\omega _r+\\frac{1}{L_{AA}}Va $\n",
    "\n",
    "$ \\frac{d\\omega_r}{dt}=\\frac{K_i}{J}ia-\\frac{B_m}{J}\\omega _r+\\frac{1}{J}T_L $\n",
    "\n",
    "$ \\frac{d\\theta _t}{dt}=\\omega _r $\n",
    "\n",
    "\n",
    "Podiamos modelar un controlador PID obteniendo sus constantes como : Ki=0.01 ;  Kp0.5 ; Kd=1\n"
   ]
  },
  {
   "cell_type": "markdown",
   "metadata": {},
   "source": [
    "### Espacio de estados"
   ]
  },
  {
   "cell_type": "code",
   "execution_count": 1,
   "metadata": {},
   "outputs": [],
   "source": [
    "# Importacion de librerias\n",
    "\n",
    "import numpy as np\n",
    "import control as ct\n",
    "import math\n",
    "import pandas as pd\n",
    "import matplotlib.pyplot as plt\n",
    "from control.matlab import *\n",
    "import cmath as cm\n",
    "from math import log\n",
    "import sympy as sp\n",
    "from scipy import signal\n"
   ]
  },
  {
   "cell_type": "markdown",
   "metadata": {},
   "source": [
    "A partir de las ecuaciones diferenciales modelamos en espacio de estados. Reescribiendo las ecuaciones en matrices y llevando a espacio de estados"
   ]
  },
  {
   "cell_type": "code",
   "execution_count": 2,
   "metadata": {},
   "outputs": [
    {
     "name": "stdout",
     "output_type": "stream",
     "text": [
      "Función de transferencia:\n",
      "TransferFunctionContinuous(\n",
      "array([-3.63797881e-11, -4.76837158e-07,  8.04261260e+09]),\n",
      "array([1.00000000e+00, 5.43259557e+04, 4.87382324e+08, 0.00000000e+00]),\n",
      "dt: None\n",
      ")\n"
     ]
    },
    {
     "name": "stderr",
     "output_type": "stream",
     "text": [
      "/home/mateo_d/.local/lib/python3.10/site-packages/scipy/signal/_ltisys.py:600: BadCoefficients: Badly conditioned filter coefficients (numerator): the results may be meaningless\n",
      "  self.num, self.den = normalize(*system)\n"
     ]
    }
   ],
   "source": [
    "# Definir los parámetros del sistema\n",
    "R_A =27\n",
    "L_AA =4.97e-4\n",
    "K_m = 0.0606\n",
    "J = 2.5518e-9\n",
    "B_m = 0\n",
    "K_i = 0.0102\n",
    "\n",
    "## Definir las matrices del sistema de espacio de estados\n",
    "A = np.array([[-R_A / L_AA, -K_m / L_AA, 0],\n",
    "              [K_i / J, -B_m / J, 0],\n",
    "              [0, 1, 0]])\n",
    "\n",
    "B = np.array([[1 / L_AA],\n",
    "              [0],\n",
    "              [0]])\n",
    "\n",
    "C = np.array([[0, 0, 1]])\n",
    "\n",
    "D = np.array([[0]])\n",
    "#print('A:', A)\n",
    "#print('B:', B)\n",
    "#print('C:', C)\n",
    "#print('D:', D)\n",
    "\n",
    "\n",
    "# Crear el sistema de espacio de estados\n",
    "#sys= ss(A, B, C, D)\n",
    "sys = signal.StateSpace(A, B, C,D)\n",
    "tf = signal.StateSpace.to_tf(sys)\n",
    "print(\"Función de transferencia:\")\n",
    "print(tf)\n",
    "#sys_tf=ct.ss2tf(sys)\n",
    "#print('sys_tf:', sys_tf)\n",
    "\n",
    "# Función de transferencia\n",
    "\n"
   ]
  },
  {
   "cell_type": "code",
   "execution_count": 3,
   "metadata": {},
   "outputs": [
    {
     "name": "stdout",
     "output_type": "stream",
     "text": [
      "Numerador redondeado: [-0.0, -0.0, 8042612600.0]\n",
      "Denominador redondeado: [1.0, 54325.96, 487382324.0, 0.0]\n"
     ]
    }
   ],
   "source": [
    "# Función de transferencia\n",
    "num = [-3.63797881e-11, -4.76837158e-07, 8.04261260e+09]\n",
    "den = [1.00000000e+00, 5.43259557e+04, 4.87382324e+08, 0.00000000e+00]\n",
    "\n",
    "# Redondear cada coeficiente\n",
    "rounded_num = [round(coeff, 2) for coeff in num]\n",
    "rounded_den = [round(coeff, 2) for coeff in den]\n",
    "\n",
    "# Mostrar los coeficientes redondeados\n",
    "print(\"Numerador redondeado:\", rounded_num)\n",
    "print(\"Denominador redondeado:\", rounded_den)"
   ]
  },
  {
   "cell_type": "markdown",
   "metadata": {},
   "source": [
    "## Obvservabilidad\n",
    "\n",
    "Determino si el sistema es observable. Debo construir la matriz de obvservabilidad. La cual es la siguiente:\n",
    "\n",
    "$\\begin{bmatrix}\n",
    "C\\\\\n",
    "CA \n",
    "\\\\\n",
    "CA^{n-1} \n",
    "\\end{bmatrix}$\n",
    "\n",
    "Calculo su rango , si el rango de es igual al numero de estados de el sisema , entonces el sistema es obvservable"
   ]
  },
  {
   "cell_type": "code",
   "execution_count": 4,
   "metadata": {},
   "outputs": [
    {
     "name": "stdout",
     "output_type": "stream",
     "text": [
      "Matriz de observabilidad:\n",
      " [[0.00000000e+00 0.00000000e+00 1.00000000e+00]\n",
      " [0.00000000e+00 1.00000000e+00 0.00000000e+00]\n",
      " [3.99717846e+06 0.00000000e+00 0.00000000e+00]]\n",
      "Rango de la matriz de observabilidad: 3\n",
      "El sistema es completamente observable.\n"
     ]
    }
   ],
   "source": [
    "n = A.shape[0] #numero de estados\n",
    "O = np.vstack([C @ np.linalg.matrix_power(A, i) for i in range(n)])\n",
    "print('Matriz de observabilidad:\\n', O)\n",
    "range_O = np.linalg.matrix_rank(O)\n",
    "print('Rango de la matriz de observabilidad:', range_O)\n",
    "# Verificar observabilidad\n",
    "if range_O == n:\n",
    "    print(\"El sistema es completamente observable.\")\n",
    "else:\n",
    "    print(\"El sistema no es completamente observable.\")\n"
   ]
  },
  {
   "cell_type": "markdown",
   "metadata": {},
   "source": [
    "## Controlabilidad\n",
    "Determino si el sistema es observable. Debo construir la matriz de obvservabilidad. La cual es la siguiente:\n",
    "\n",
    "$\\begin{bmatrix}\n",
    "A &AB  &A^{n-1}B \n",
    "\\end{bmatrix}$\n",
    "\n",
    "Calculo su rango , si el rango de es igual al numero de estados de el sisema , entonces el sistema es controlable\n"
   ]
  },
  {
   "cell_type": "code",
   "execution_count": 5,
   "metadata": {},
   "outputs": [
    {
     "name": "stdout",
     "output_type": "stream",
     "text": [
      "Matriz de controlabilidad:\n",
      " [[ 2.01207243e+03 -1.09307758e+08  4.95759989e+12]\n",
      " [ 0.00000000e+00  8.04261260e+09 -4.36922616e+14]\n",
      " [ 0.00000000e+00  0.00000000e+00  8.04261260e+09]]\n",
      "Rango de la matriz de controlabilidad: 3\n",
      "El sistema es completamente controlable.\n"
     ]
    }
   ],
   "source": [
    "# Calcular la matriz de controlabilidad\n",
    "n = A.shape[0]  # Número de estados\n",
    "C_ctrl = np.hstack([np.linalg.matrix_power(A, i) @ B for i in range(n)])\n",
    "\n",
    "print('Matriz de controlabilidad:\\n', C_ctrl)\n",
    "range_C_ctrl = np.linalg.matrix_rank(C_ctrl)\n",
    "print('Rango de la matriz de controlabilidad:', range_C_ctrl)\n",
    "\n",
    "# Verificar controlabilidad\n",
    "if range_C_ctrl == n:\n",
    "    print(\"El sistema es completamente controlable.\")\n",
    "else:\n",
    "    print(\"El sistema no es completamente controlable.\")\n"
   ]
  },
  {
   "cell_type": "markdown",
   "metadata": {},
   "source": [
    "## Tiempo de simulacion e integración"
   ]
  },
  {
   "cell_type": "code",
   "execution_count": 6,
   "metadata": {},
   "outputs": [
    {
     "name": "stdout",
     "output_type": "stream",
     "text": [
      "Polos: [     0.         -11337.52232726 -42988.43340714]\n",
      "Tiempo de integración de Euler: -4.524206692339342e-06\n"
     ]
    }
   ],
   "source": [
    "# Definir el tiempo de simulación y tiempo de integración\n",
    "#Tiempo de integracion de euler -> obtener polos lazo abierto\n",
    "\n",
    "poles= np.linalg.eigvals(A)\n",
    "print('Polos:', poles)\n",
    "\n",
    "#El polo mayor es 0 pero no es parte de la dinamica de el sistema(indica no estabilidad)\n",
    "dominant_complex_pole = poles[1]  # Se elige uno de los polos complejos conjugados\n",
    "\n",
    "#Tiempo intrgracion de euler\n",
    "tR = np.log(0.95) / np.abs(dominant_complex_pole.real)\n",
    "print('Tiempo de integración de Euler:', tR)\n",
    "\n",
    "#Tiempo de simulacion"
   ]
  },
  {
   "cell_type": "markdown",
   "metadata": {},
   "source": [
    "## Asignacion de polos\n",
    "\n",
    "Habiendo obtenido la funcion de transferencia del sistema\n",
    "\n",
    "$G(s) = \\frac{s^2 - 2.77708750 \\times 10^{-7}s + 4.57875458 \\times 10^6}{1.00000000s^3 + 3.78151261 \\times 10^4s^2 + 2.77472527 \\times 10^5s + 2.18278728 \\times 10^{-11}}$\n",
    "\n",
    "Coincide el orden del numerador con la cantidad de estados"
   ]
  },
  {
   "cell_type": "code",
   "execution_count": 7,
   "metadata": {},
   "outputs": [
    {
     "name": "stdout",
     "output_type": "stream",
     "text": [
      "Polos del sistema abierto: [     0.         -11337.52232726 -42988.43340714]\n",
      "Ganancias del controlador (Ackermann):\n",
      "[[-3.43224557e+04  1.37728789e+09 -5.80943227e+13]]\n"
     ]
    }
   ],
   "source": [
    "# Calcular los polos del sistema abierto\n",
    "poles_LA= np.linalg.eigvals(A)\n",
    "print(\"Polos del sistema abierto:\", poles_LA)  \n",
    "## Polos del sistema abierto -> (0,-7.339,-3.78e+4)\n",
    "\n",
    "\n",
    "#Forma canonica controlable\n",
    "\n",
    "#Aplico Ackermann\n",
    "\n",
    "# Convertir el sistema a su forma controlable\n",
    "T = ct.ctrb(A, B)\n",
    "T_inv = np.linalg.inv(T)\n",
    "Ac = T_inv @ A @ T\n",
    "Bc = T_inv @ B\n",
    "\n",
    "# Especificar los polos deseados\n",
    "polos_deseados = [-1.5, -2, -20000]\n",
    "\n",
    "# Calcular las ganancias del controlador utilizando el método de Ackermann\n",
    "K = ct.acker(Ac, Bc, polos_deseados)\n",
    "\n",
    "print(\"Ganancias del controlador (Ackermann):\")\n",
    "print(K)\n",
    "\n"
   ]
  },
  {
   "cell_type": "markdown",
   "metadata": {},
   "source": []
  },
  {
   "cell_type": "markdown",
   "metadata": {},
   "source": [
    "## LQR"
   ]
  },
  {
   "cell_type": "code",
   "execution_count": 8,
   "metadata": {},
   "outputs": [],
   "source": [
    "#implementacion controlador LQR\n",
    "\n",
    "#NO FUNCIONA VERSION DE SLYCOT, en collab funciona y obtuve K\n",
    "\n",
    "\n",
    "#implementacion controlador LQR\n",
    "# Definir las matrices de ponderación Q y R\n",
    "#Q = np.diag([0.44, 2.5e-5, 6.25, 100000]) # Ponderaciones de estado\n",
    "#R = np.array([100])                  # Ponderaciones de entrada\n",
    "\n",
    "# Ampliar las matrices A y B para incluir un integrador adicional\n",
    "#A_ampliada = np.vstack([np.hstack([A, np.zeros((A.shape[0], 1))]), np.hstack([-C, np.zeros((1, 1))])])\n",
    "#B_ampliada = np.vstack([B, np.zeros((1, B.shape[1]))])\n",
    "\n",
    "#print(\"A_ampliada:\")\n",
    "#print(A_ampliada)\n",
    "\n",
    "#print(\"B_ampliada:\")\n",
    "#print(B_ampliada)\n",
    "\n",
    "# Calcular el controlador LQR\n",
    "#K, _, _ = ct.lqr(A_ampliada, B_ampliada, Q, R)\n",
    "\n",
    "#print(\"Ganancia del controlador K:\")\n",
    "#print(K)\n",
    "\n",
    "\n",
    "# Imprimir las dimensiones de las matrices ampliadas\n",
    "#print(\"Dimensiones de A_ampliada:\", A_ampliada.shape)\n",
    "#print(\"Dimensiones de B_ampliada:\", B_ampliada.shape)\n",
    "\n",
    "\n",
    "\n",
    "#NO FUNCIONA VERSION DE SLYCOT, en collab funciona y obtuve K\n",
    "\n"
   ]
  },
  {
   "cell_type": "markdown",
   "metadata": {},
   "source": [
    "## Referencia y torque"
   ]
  },
  {
   "cell_type": "code",
   "execution_count": 12,
   "metadata": {},
   "outputs": [
    {
     "data": {
      "image/png": "[encoded data removed]",
      "text/plain": [
       "<Figure size 1200x600 with 2 Axes>"
      ]
     },
     "metadata": {},
     "output_type": "display_data"
    }
   ],
   "source": [
    "# Definir el tiempo de simulación\n",
    "h = 1e-4\n",
    "tSim = 10\n",
    "t = np.arange(0, tSim, h)\n",
    "\n",
    "# Frecuencia de señal\n",
    "frequency = 0.1  # Frecuencia de la señal en Hz (cada 10 segundos)\n",
    "\n",
    "# Definir la señal de referencia\n",
    "reference = np.pi/2 * signal.square(2 * np.pi * frequency * t, duty=0.5)\n",
    "\n",
    "# Definir el torque de entrada\n",
    "torque = ((1.1e-3) / 2) * signal.square(2 * np.pi * frequency * t, duty=0.5) + ((1.1e-3) / 2)\n",
    "\n",
    "# Graficar la señal de referencia\n",
    "plt.figure(figsize=(12, 6))\n",
    "\n",
    "plt.subplot(2, 1, 1)\n",
    "plt.plot(t, reference, 'b', linewidth=1.5)\n",
    "plt.xlabel('Tiempo [s]')\n",
    "plt.ylabel('Ángulo [rad]')\n",
    "plt.title('Señal de referencia $\\\\theta_i$')\n",
    "plt.grid(True)\n",
    "\n",
    "# Graficar el torque de entrada\n",
    "plt.subplot(2, 1, 2)\n",
    "plt.plot(t, torque, 'r', linewidth=1.5)\n",
    "plt.xlabel('Tiempo [s]')\n",
    "plt.ylabel('Torque [Nm]')\n",
    "plt.title('Torque de entrada $T_L$')\n",
    "plt.grid(True)\n",
    "\n",
    "plt.tight_layout()\n",
    "plt.show()"
   ]
  },
  {
   "cell_type": "markdown",
   "metadata": {},
   "source": [
    "## Simulacion\n"
   ]
  },
  {
   "cell_type": "code",
   "execution_count": 11,
   "metadata": {},
   "outputs": [
    {
     "name": "stderr",
     "output_type": "stream",
     "text": [
      "/tmp/ipykernel_4671/3395385057.py:33: DeprecationWarning: Conversion of an array with ndim > 0 to a scalar is deprecated, and will error in future. Ensure you extract a single element from your array before performing this operation. (Deprecated NumPy 1.25.)\n",
      "  stateVector[3] += zetaP * h  # Actualizar el estado del integrador\n"
     ]
    },
    {
     "data": {
      "image/png": "[encoded data removed]",
      "text/plain": [
       "<Figure size 1200x800 with 3 Axes>"
      ]
     },
     "metadata": {},
     "output_type": "display_data"
    }
   ],
   "source": [
    "# Ganancia del controlador K\n",
    "K = np.array([[1.64188560e-02, 2.22110346e-04, 1.97717678e+00, -3.16227766e+01]])\n",
    "\n",
    "# Definir el tiempo de simulación\n",
    "h = 1e-5\n",
    "tSim = 10\n",
    "t = np.arange(0, tSim, h)\n",
    "\n",
    "# Frecuencia de señal\n",
    "frequency = 0.1  # Frecuencia de la señal en Hz (cada 10 segundos)\n",
    "\n",
    "# Definir la señal de referencia\n",
    "reference = np.pi/2 * signal.square(2 * np.pi * frequency * t, duty=0.5)\n",
    "\n",
    "# Definir el torque de entrada\n",
    "torque = ((1.1e-3) / 2) * signal.square(2 * np.pi * frequency * t, duty=0.5) + ((1.1e-3) / 2)\n",
    "\n",
    "# Condiciones iniciales no nulas\n",
    "x = np.array([0.1, 0.1, 0.1, 0])  # Inicializa ia, w, tita, zeta con valores no nulos\n",
    "stateVector = x.copy()             # Asegurar que stateVector coincide con x\n",
    "\n",
    "\n",
    "# Inicializar las variables de estado\n",
    "ia = np.zeros(len(t))\n",
    "w = np.zeros(len(t))\n",
    "tita = np.zeros(len(t))\n",
    "u = np.zeros(len(t))\n",
    "psi = np.zeros(len(t))\n",
    "\n",
    "# Simulación\n",
    "for i in range(len(t)):\n",
    "    zetaP = reference[i] - np.dot(C, stateVector[:3])\n",
    "    stateVector[3] += zetaP * h  # Actualizar el estado del integrador\n",
    "    u[i] = -np.dot(K[0, :3], stateVector[:3]) - K[0, 3] * stateVector[3]  # Corrección en el cálculo de u\n",
    "    ia[i] = stateVector[0]\n",
    "    w[i] = stateVector[1]\n",
    "    tita[i] = stateVector[2]\n",
    "    \n",
    "    x1P = (-R_A * stateVector[0] - K_m * stateVector[1] + u[i]) / L_AA\n",
    "    x2P = (K_i * stateVector[0] - B_m * stateVector[1] - torque[i]) / J\n",
    "    x3P = stateVector[1]\n",
    "    \n",
    "    stateVector[:3] += h * np.array([x1P, x2P, x3P])  # Actualizar el vector de estado\n",
    "\n",
    "    # Limitar la acción de control\n",
    "    if u[i] > 24:\n",
    "        u[i] = 24\n",
    "    elif u[i] < -24:\n",
    "        u[i] = -24\n",
    "\n",
    "# Graficar resultados\n",
    "plt.figure(figsize=(12, 8))\n",
    "\n",
    "plt.subplot(2, 2, 1)\n",
    "plt.plot(t, ia, 'b', linewidth=1.5)\n",
    "plt.xlabel('Tiempo [s]')\n",
    "plt.ylabel('Corriente [A]')\n",
    "plt.title('Corriente de armadura $i_a$')\n",
    "plt.grid(True)\n",
    "\n",
    "plt.subplot(2, 2, 2)\n",
    "plt.plot(t, tita, 'r', linewidth=1.5)\n",
    "plt.plot(t, reference, 'g--', linewidth=1.5)\n",
    "plt.xlabel('Tiempo [s]')\n",
    "plt.ylabel('Ángulo [rad]')\n",
    "plt.title('Posición angular $\\\\theta_t$')\n",
    "plt.legend(['Salida', 'Referencia'])\n",
    "plt.grid(True)\n",
    "\n",
    "plt.subplot(2, 2, 3)\n",
    "plt.plot(t, u, 'm', linewidth=1.5)\n",
    "plt.xlabel('Tiempo [s]')\n",
    "plt.ylabel('Voltaje [V]')\n",
    "plt.title('Acción de control $u_t$')\n",
    "plt.grid(True)\n",
    "\n",
    "plt.tight_layout()\n",
    "plt.show()"
   ]
  },
  {
   "cell_type": "markdown",
   "metadata": {},
   "source": [
    "# Observador\n",
    "\n",
    "Se pide un observador para el caso que solo pueda medirse ángulo de salida. El objetivo de el uso del observador es medir la corriente, ya que solo tenemos acceso al angulo. Para el calculo del LQR, las matrices difieren de la siguiente manera.\n",
    "Tener en cuenta que ahora tenemos dos variables a observar , entonces la matriz C va a cambiar a dos filas con un 1 en la variable de interes"
   ]
  },
  {
   "cell_type": "code",
   "execution_count": 1,
   "metadata": {},
   "outputs": [],
   "source": [
    "# Definir los parámetros del sistema\n",
    "#R_A =27\n",
    "#L_AA =4.97e-4\n",
    "#K_m = 0.0606\n",
    "#J = 2.5518e-9\n",
    "#B_m = 0\n",
    "#K_i = 0.0102\n",
    "\n",
    "# Definir las matrices del sistema de espacio de estados\n",
    "#A = np.array([[-R_A / L_AA, -K_m / L_AA, 0],\n",
    "#              [K_i / J, -B_m / J, 0],\n",
    "#              [0, 1, 0]])\n",
    "\n",
    "#B = np.array([[1 / L_AA],\n",
    "#             [0],\n",
    "#             [0]])\n",
    "\n",
    "# Definir la matriz C\n",
    "#C = np.array([[0, 0, 1],   # Medición del ángulo\n",
    "#              [0, 1, 0]])  # Medición de la velocidad\n",
    "\n",
    "# Transponer las matrices \n",
    "#Ao = np.transpose(A)\n",
    "#Bo = np.transpose(C)\n",
    "#Co = np.transpose(B)\n",
    "#print(Ao)\n",
    "#print(Bo)\n",
    "#print(Co)\n",
    "\n",
    "#Qo = np.diag([1, 1, 1])\n",
    "#Ro = np.diag([1,1])\n",
    "#print(Qo)\n",
    "#print(Ro)\n",
    "# Calcular el controlador LQR Ko\n",
    "#Ko, _, _ = ct.lqr(Ao,Bo, Qo, Ro)\n",
    "\n",
    "# Mostrar el resultado\n",
    "#print(\"Controlador LQR Ko:\")\n",
    "#print(Ko)\n",
    "\n",
    "## CONTROLADOR CALCULADO EN COLLAB DEBIDO A PROBLEMA DE SLYCOT\n",
    "\n"
   ]
  },
  {
   "cell_type": "code",
   "execution_count": 2,
   "metadata": {},
   "outputs": [
    {
     "ename": "SyntaxError",
     "evalue": "invalid syntax. Perhaps you forgot a comma? (1903226699.py, line 1)",
     "output_type": "error",
     "traceback": [
      "\u001b[0;36m  Cell \u001b[0;32mIn[2], line 1\u001b[0;36m\u001b[0m\n\u001b[0;31m    Ko = np.array([[-7.54863332e-08  3.36322114e-05  1.00003363e+00]\u001b[0m\n\u001b[0m                    ^\u001b[0m\n\u001b[0;31mSyntaxError\u001b[0m\u001b[0;31m:\u001b[0m invalid syntax. Perhaps you forgot a comma?\n"
     ]
    }
   ],
   "source": [
    "Ko = np.array([[-7.54863332e-08  3.36322114e-05  1.00003363e+00]\n",
    " [-1.13696596e-07  3.01776128e-01  3.36322114e-05]])\n",
    "\n",
    "# Definir el tiempo de simulación\n",
    "#Simulacion\n",
    "# Definir el tiempo de simulación\n",
    "h = 1e-5\n",
    "tSim = 10\n",
    "t = np.arange(0, tSim, h)\n",
    "\n",
    "# Frecuencia de señal\n",
    "frequency = 0.1  # Frecuencia de la señal en Hz (cada 10 segundos)\n",
    "\n",
    "# Definir la señal de referencia\n",
    "reference = np.pi/2 * signal.square(2 * np.pi * frequency * t, duty=0.5)\n",
    "\n",
    "# Definir el torque de entrada\n",
    "torque = ((1.1e-3) / 2) * signal.square(2 * np.pi * frequency * t, duty=0.5) + ((1.1e-3) / 2)\n",
    "\n",
    "# Condiciones iniciales no nulas\n",
    "x = np.array([0.1, 0.1, 0.1, 0])  # Inicializa ia, w, tita, zeta con valores no nulos\n",
    "stateVector = x.copy()             # Asegurar que stateVector coincide con x\n",
    "\n",
    "\n",
    "# Inicializar las variables de estado\n",
    "ia = np.zeros(len(t))\n",
    "w = np.zeros(len(t))\n",
    "tita = np.zeros(len(t))\n",
    "u = np.zeros(len(t))\n",
    "psi = np.zeros(len(t))\n",
    "\n",
    "# Simulación\n",
    "for i in range(len(t)):\n",
    "    zetaP = reference[i] - np.dot(C, stateVector[:3])\n",
    "    stateVector[3] += zetaP * h  # Actualizar el estado del integrador\n",
    "    u[i] = -np.dot(Ko[0, :3], stateVector[:3]) - Ko[0, 3] * stateVector[3]  # Corrección en el cálculo de u\n",
    "    ia[i] = stateVector[0]\n",
    "    w[i] = stateVector[1]\n",
    "    tita[i] = stateVector[2]\n",
    "    \n",
    "    x1P = (-R_A * stateVector[0] - K_m * stateVector[1] + u[i]) / L_AA\n",
    "    x2P = (K_i * stateVector[0] - B_m * stateVector[1] - torque[i]) / J\n",
    "    x3P = stateVector[1]\n",
    "    \n",
    "    stateVector[:3] += h * np.array([x1P, x2P, x3P])  # Actualizar el vector de estado\n",
    "\n",
    "    # Limitar la acción de control\n",
    "    if u[i] > 24:\n",
    "        u[i] = 24\n",
    "    elif u[i] < -24:\n",
    "        u[i] = -24\n",
    "\n",
    "# Graficar resultados\n",
    "plt.figure(figsize=(12, 8))\n",
    "plt.subplot(2, 2, 1)\n",
    "plt.plot(t, ia, 'b', linewidth=1.5)\n",
    "plt.xlabel('Tiempo [s]')\n",
    "plt.ylabel('Corriente [A]')\n",
    "plt.title('Corriente de armadura $i_a$')\n",
    "plt.grid(True)\n",
    "\n",
    "plt.subplot(2, 2, 2)\n",
    "plt.plot(t, tita, 'r', linewidth=1.5)\n",
    "plt.plot(t, reference, 'g--', linewidth=1.5)\n",
    "plt.xlabel('Tiempo [s]')\n",
    "plt.ylabel('Ángulo [rad]')\n",
    "plt.title('Posición angular $\\\\theta_t$')\n",
    "plt.legend(['Salida', 'Referencia'])\n",
    "plt.grid(True)\n",
    "\n",
    "plt.subplot(2, 2, 3)\n",
    "plt.plot(t, u, 'm', linewidth=1.5)\n",
    "plt.xlabel('Tiempo [s]')\n",
    "plt.ylabel('Voltaje [V]')\n",
    "plt.title('Acción de control $u_t$')\n",
    "plt.grid(True)\n",
    "\n",
    "plt.tight_layout()\n",
    "plt.show()\n",
    "    "
   ]
  }
 ],
 "metadata": {
  "kernelspec": {
   "display_name": "Python 3",
   "language": "python",
   "name": "python3"
  },
  "language_info": {
   "codemirror_mode": {
    "name": "ipython",
    "version": 3
   },
   "file_extension": ".py",
   "mimetype": "text/x-python",
   "name": "python",
   "nbconvert_exporter": "python",
   "pygments_lexer": "ipython3",
   "version": "3.10.12"
  }
 },
 "nbformat": 4,
 "nbformat_minor": 2
}
